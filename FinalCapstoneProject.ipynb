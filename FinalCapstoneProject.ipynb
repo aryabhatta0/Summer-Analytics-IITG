{
 "cells": [
  {
   "cell_type": "markdown",
   "id": "d1833b98",
   "metadata": {},
   "source": [
    "You have been provided descriptions of products on Amazon and Flipkart, including details like product title, ratings, reviews, and actual prices. In this challenge, **you will predict discounted prices of the listed products based on their ratings and actual prices.**"
   ]
  },
  {
   "cell_type": "markdown",
   "id": "55dadacc",
   "metadata": {},
   "source": [
    "# Random Forest\n",
    "We will be using RF here."
   ]
  },
  {
   "cell_type": "code",
   "execution_count": 1,
   "id": "16873cf6",
   "metadata": {},
   "outputs": [],
   "source": [
    "import numpy as np\n",
    "import matplotlib.pyplot as plt\n",
    "import pandas as pd"
   ]
  },
  {
   "cell_type": "markdown",
   "id": "e1badb92",
   "metadata": {},
   "source": [
    "### Loading Data"
   ]
  },
  {
   "cell_type": "code",
   "execution_count": 3,
   "id": "6cfa46c8",
   "metadata": {},
   "outputs": [
    {
     "data": {
      "text/html": [
       "<div>\n",
       "<style scoped>\n",
       "    .dataframe tbody tr th:only-of-type {\n",
       "        vertical-align: middle;\n",
       "    }\n",
       "\n",
       "    .dataframe tbody tr th {\n",
       "        vertical-align: top;\n",
       "    }\n",
       "\n",
       "    .dataframe thead th {\n",
       "        text-align: right;\n",
       "    }\n",
       "</style>\n",
       "<table border=\"1\" class=\"dataframe\">\n",
       "  <thead>\n",
       "    <tr style=\"text-align: right;\">\n",
       "      <th></th>\n",
       "      <th>id</th>\n",
       "      <th>title</th>\n",
       "      <th>Rating</th>\n",
       "      <th>maincateg</th>\n",
       "      <th>platform</th>\n",
       "      <th>price1</th>\n",
       "      <th>actprice1</th>\n",
       "      <th>Offer %</th>\n",
       "      <th>norating1</th>\n",
       "      <th>noreviews1</th>\n",
       "      <th>star_5f</th>\n",
       "      <th>star_4f</th>\n",
       "      <th>star_3f</th>\n",
       "      <th>star_2f</th>\n",
       "      <th>star_1f</th>\n",
       "      <th>fulfilled1</th>\n",
       "    </tr>\n",
       "  </thead>\n",
       "  <tbody>\n",
       "    <tr>\n",
       "      <th>0</th>\n",
       "      <td>16695</td>\n",
       "      <td>Fashionable &amp; Comfortable Bellies For Women  (...</td>\n",
       "      <td>3.9</td>\n",
       "      <td>Women</td>\n",
       "      <td>Flipkart</td>\n",
       "      <td>698</td>\n",
       "      <td>999</td>\n",
       "      <td>30.13%</td>\n",
       "      <td>38.0</td>\n",
       "      <td>7.0</td>\n",
       "      <td>17.0</td>\n",
       "      <td>9.0</td>\n",
       "      <td>6.0</td>\n",
       "      <td>3</td>\n",
       "      <td>3</td>\n",
       "      <td>0</td>\n",
       "    </tr>\n",
       "    <tr>\n",
       "      <th>1</th>\n",
       "      <td>5120</td>\n",
       "      <td>Combo Pack of 4 Casual Shoes Sneakers For Men ...</td>\n",
       "      <td>3.8</td>\n",
       "      <td>Men</td>\n",
       "      <td>Flipkart</td>\n",
       "      <td>999</td>\n",
       "      <td>1999</td>\n",
       "      <td>50.03%</td>\n",
       "      <td>531.0</td>\n",
       "      <td>69.0</td>\n",
       "      <td>264.0</td>\n",
       "      <td>92.0</td>\n",
       "      <td>73.0</td>\n",
       "      <td>29</td>\n",
       "      <td>73</td>\n",
       "      <td>1</td>\n",
       "    </tr>\n",
       "    <tr>\n",
       "      <th>2</th>\n",
       "      <td>18391</td>\n",
       "      <td>Cilia Mode Leo Sneakers For Women  (White)</td>\n",
       "      <td>4.4</td>\n",
       "      <td>Women</td>\n",
       "      <td>Flipkart</td>\n",
       "      <td>2749</td>\n",
       "      <td>4999</td>\n",
       "      <td>45.01%</td>\n",
       "      <td>17.0</td>\n",
       "      <td>4.0</td>\n",
       "      <td>11.0</td>\n",
       "      <td>3.0</td>\n",
       "      <td>2.0</td>\n",
       "      <td>1</td>\n",
       "      <td>0</td>\n",
       "      <td>1</td>\n",
       "    </tr>\n",
       "  </tbody>\n",
       "</table>\n",
       "</div>"
      ],
      "text/plain": [
       "      id                                              title  Rating maincateg  \\\n",
       "0  16695  Fashionable & Comfortable Bellies For Women  (...     3.9     Women   \n",
       "1   5120  Combo Pack of 4 Casual Shoes Sneakers For Men ...     3.8       Men   \n",
       "2  18391         Cilia Mode Leo Sneakers For Women  (White)     4.4     Women   \n",
       "\n",
       "   platform  price1  actprice1 Offer %  norating1  noreviews1  star_5f  \\\n",
       "0  Flipkart     698        999  30.13%       38.0         7.0     17.0   \n",
       "1  Flipkart     999       1999  50.03%      531.0        69.0    264.0   \n",
       "2  Flipkart    2749       4999  45.01%       17.0         4.0     11.0   \n",
       "\n",
       "   star_4f  star_3f  star_2f  star_1f  fulfilled1  \n",
       "0      9.0      6.0        3        3           0  \n",
       "1     92.0     73.0       29       73           1  \n",
       "2      3.0      2.0        1        0           1  "
      ]
     },
     "execution_count": 3,
     "metadata": {},
     "output_type": "execute_result"
    }
   ],
   "source": [
    "train_set = pd.read_csv('Data/train.csv')\n",
    "train_set.head(3)"
   ]
  },
  {
   "cell_type": "code",
   "execution_count": 4,
   "id": "fce81975",
   "metadata": {},
   "outputs": [
    {
     "name": "stdout",
     "output_type": "stream",
     "text": [
      "(15730, 14)\n"
     ]
    },
    {
     "data": {
      "text/html": [
       "<div>\n",
       "<style scoped>\n",
       "    .dataframe tbody tr th:only-of-type {\n",
       "        vertical-align: middle;\n",
       "    }\n",
       "\n",
       "    .dataframe tbody tr th {\n",
       "        vertical-align: top;\n",
       "    }\n",
       "\n",
       "    .dataframe thead th {\n",
       "        text-align: right;\n",
       "    }\n",
       "</style>\n",
       "<table border=\"1\" class=\"dataframe\">\n",
       "  <thead>\n",
       "    <tr style=\"text-align: right;\">\n",
       "      <th></th>\n",
       "      <th>id</th>\n",
       "      <th>title</th>\n",
       "      <th>Rating</th>\n",
       "      <th>maincateg</th>\n",
       "      <th>platform</th>\n",
       "      <th>actprice1</th>\n",
       "      <th>norating1</th>\n",
       "      <th>noreviews1</th>\n",
       "      <th>star_5f</th>\n",
       "      <th>star_4f</th>\n",
       "      <th>star_3f</th>\n",
       "      <th>star_2f</th>\n",
       "      <th>star_1f</th>\n",
       "      <th>fulfilled1</th>\n",
       "    </tr>\n",
       "  </thead>\n",
       "  <tbody>\n",
       "    <tr>\n",
       "      <th>0</th>\n",
       "      <td>16695</td>\n",
       "      <td>Fashionable &amp; Comfortable Bellies For Women  (...</td>\n",
       "      <td>3.9</td>\n",
       "      <td>Women</td>\n",
       "      <td>Flipkart</td>\n",
       "      <td>999</td>\n",
       "      <td>38.0</td>\n",
       "      <td>7.0</td>\n",
       "      <td>17.0</td>\n",
       "      <td>9.0</td>\n",
       "      <td>6.0</td>\n",
       "      <td>3</td>\n",
       "      <td>3</td>\n",
       "      <td>0</td>\n",
       "    </tr>\n",
       "    <tr>\n",
       "      <th>1</th>\n",
       "      <td>5120</td>\n",
       "      <td>Combo Pack of 4 Casual Shoes Sneakers For Men ...</td>\n",
       "      <td>3.8</td>\n",
       "      <td>Men</td>\n",
       "      <td>Flipkart</td>\n",
       "      <td>1999</td>\n",
       "      <td>531.0</td>\n",
       "      <td>69.0</td>\n",
       "      <td>264.0</td>\n",
       "      <td>92.0</td>\n",
       "      <td>73.0</td>\n",
       "      <td>29</td>\n",
       "      <td>73</td>\n",
       "      <td>1</td>\n",
       "    </tr>\n",
       "  </tbody>\n",
       "</table>\n",
       "</div>"
      ],
      "text/plain": [
       "      id                                              title  Rating maincateg  \\\n",
       "0  16695  Fashionable & Comfortable Bellies For Women  (...     3.9     Women   \n",
       "1   5120  Combo Pack of 4 Casual Shoes Sneakers For Men ...     3.8       Men   \n",
       "\n",
       "   platform  actprice1  norating1  noreviews1  star_5f  star_4f  star_3f  \\\n",
       "0  Flipkart        999       38.0         7.0     17.0      9.0      6.0   \n",
       "1  Flipkart       1999      531.0        69.0    264.0     92.0     73.0   \n",
       "\n",
       "   star_2f  star_1f  fulfilled1  \n",
       "0        3        3           0  \n",
       "1       29       73           1  "
      ]
     },
     "execution_count": 4,
     "metadata": {},
     "output_type": "execute_result"
    }
   ],
   "source": [
    "# Loading X_train & y_train\n",
    "\n",
    "X_train_orig = train_set.drop(['Offer %', 'price1'], axis=1)\n",
    "print(X_train_orig.shape)  # same as X_test !\n",
    "X_train_orig.head(2)"
   ]
  },
  {
   "cell_type": "code",
   "execution_count": 5,
   "id": "a062e7a9",
   "metadata": {},
   "outputs": [
    {
     "data": {
      "text/html": [
       "<div>\n",
       "<style scoped>\n",
       "    .dataframe tbody tr th:only-of-type {\n",
       "        vertical-align: middle;\n",
       "    }\n",
       "\n",
       "    .dataframe tbody tr th {\n",
       "        vertical-align: top;\n",
       "    }\n",
       "\n",
       "    .dataframe thead th {\n",
       "        text-align: right;\n",
       "    }\n",
       "</style>\n",
       "<table border=\"1\" class=\"dataframe\">\n",
       "  <thead>\n",
       "    <tr style=\"text-align: right;\">\n",
       "      <th></th>\n",
       "      <th>Offer %</th>\n",
       "      <th>price1</th>\n",
       "    </tr>\n",
       "  </thead>\n",
       "  <tbody>\n",
       "    <tr>\n",
       "      <th>0</th>\n",
       "      <td>30.13%</td>\n",
       "      <td>698</td>\n",
       "    </tr>\n",
       "    <tr>\n",
       "      <th>1</th>\n",
       "      <td>50.03%</td>\n",
       "      <td>999</td>\n",
       "    </tr>\n",
       "    <tr>\n",
       "      <th>2</th>\n",
       "      <td>45.01%</td>\n",
       "      <td>2749</td>\n",
       "    </tr>\n",
       "    <tr>\n",
       "      <th>3</th>\n",
       "      <td>15.85%</td>\n",
       "      <td>518</td>\n",
       "    </tr>\n",
       "    <tr>\n",
       "      <th>4</th>\n",
       "      <td>40.02%</td>\n",
       "      <td>1379</td>\n",
       "    </tr>\n",
       "  </tbody>\n",
       "</table>\n",
       "</div>"
      ],
      "text/plain": [
       "  Offer %  price1\n",
       "0  30.13%     698\n",
       "1  50.03%     999\n",
       "2  45.01%    2749\n",
       "3  15.85%     518\n",
       "4  40.02%    1379"
      ]
     },
     "execution_count": 5,
     "metadata": {},
     "output_type": "execute_result"
    }
   ],
   "source": [
    "# y_train\n",
    "y_train_orig = train_set[['Offer %', 'price1']]\n",
    "y_train_orig.head()"
   ]
  },
  {
   "cell_type": "code",
   "execution_count": 6,
   "id": "a0134604",
   "metadata": {},
   "outputs": [
    {
     "data": {
      "text/plain": [
       "(15730,)"
      ]
     },
     "execution_count": 6,
     "metadata": {},
     "output_type": "execute_result"
    }
   ],
   "source": [
    "y_train_price = y_train_orig['price1']\n",
    "y_train_offer = y_train_orig['Offer %']\n",
    "y_train_price.shape"
   ]
  },
  {
   "cell_type": "markdown",
   "id": "bbc3eacf",
   "metadata": {},
   "source": [
    "### Encode Columns"
   ]
  },
  {
   "cell_type": "markdown",
   "id": "6a3e4872",
   "metadata": {},
   "source": [
    "Columns:\n",
    "\n",
    "    title - Name of the product\n",
    "    Rating- average rating given to a product\n",
    "    maincateg - category that the product is listed under(men/women)\n",
    "    platform - platform on which it is sold on (Eg. Amazon, Flipkart)\n",
    "    actprice1 - Actual price of the listed product\n",
    "    norating1 - number of ratings available for a particular product\n",
    "    noreviews1 - number of reviews available for a particular product\n",
    "    star_5f - number of five star ratings given to a particular product\n",
    "    star_4f - number of four star ratings given to a particular product\n",
    "    star_3f - number of three star ratings given to a particular product\n",
    "    star_2f - number of two star ratings given to a particular product\n",
    "    star_1f - number of one star ratings given to a particular product\n",
    "    fulfilled1- whether it is Amazon fulfilled or not\n",
    "    Offer % - Discount percent\n",
    "    price1 - Discounted Price of the listed product\n",
    "    \n",
    "The goal is to predict **discounted prices** of the listed products based on their ratings and actual prices."
   ]
  },
  {
   "cell_type": "code",
   "execution_count": 7,
   "id": "379e031e",
   "metadata": {},
   "outputs": [
    {
     "data": {
      "text/plain": [
       "id              0\n",
       "title           0\n",
       "Rating          0\n",
       "maincateg     526\n",
       "platform        0\n",
       "actprice1       0\n",
       "norating1     678\n",
       "noreviews1    578\n",
       "star_5f       588\n",
       "star_4f       539\n",
       "star_3f       231\n",
       "star_2f         0\n",
       "star_1f         0\n",
       "fulfilled1      0\n",
       "dtype: int64"
      ]
     },
     "execution_count": 7,
     "metadata": {},
     "output_type": "execute_result"
    }
   ],
   "source": [
    "X_train_orig.isna().sum()"
   ]
  },
  {
   "cell_type": "code",
   "execution_count": 8,
   "id": "8dc4c0f9",
   "metadata": {},
   "outputs": [],
   "source": [
    "# Filling maincateg NaN using title\n",
    "def fill_maincateg(df):\n",
    "    for ind, item in enumerate(df.maincateg):\n",
    "        # print(item)\n",
    "        \n",
    "        # how else to check if item is nan\n",
    "        if(item!=\"Men\" and item != \"Women\"):\n",
    "            # print(df.title[ind])\n",
    "            #if(df.title[ind].str.contains('Men')):\n",
    "            if(\"Men\" in df.title[ind]):\n",
    "                df.loc[ind, \"maincateg\"] = 'Men'\n",
    "            else:\n",
    "                df.loc[ind, \"maincateg\"] = 'Women'\n",
    "    print(\"Done\")\n",
    "    \n",
    "    return df"
   ]
  },
  {
   "cell_type": "code",
   "execution_count": 9,
   "id": "edc5affe",
   "metadata": {},
   "outputs": [
    {
     "data": {
      "text/plain": [
       "{'norating1': 3057.6607759766143, 'noreviews1': 423.97630675818374}"
      ]
     },
     "execution_count": 9,
     "metadata": {},
     "output_type": "execute_result"
    }
   ],
   "source": [
    "train_na_cols = {'norating1': X_train_orig.norating1.mean(), 'noreviews1': X_train_orig.noreviews1.mean()}\n",
    "train_na_cols"
   ]
  },
  {
   "cell_type": "code",
   "execution_count": 10,
   "id": "8f465ace",
   "metadata": {},
   "outputs": [],
   "source": [
    "# for encoding 'train_set'\n",
    "\n",
    "def encode_train_cols(X):\n",
    "    # Filling maincateg using title\n",
    "    #X.maincateg = X.maincateg.fillna('Men' if X.title.str.con)\n",
    "    fill_maincateg(X)\n",
    "    \n",
    "    # Drop \"title\" & \"id\" & ratings\n",
    "    cols_to_drop = ['id', 'title', 'star_5f', 'star_4f', 'star_3f', 'star_2f', 'star_1f']\n",
    "    X.drop(cols_to_drop, axis=1, inplace=True)\n",
    "    \n",
    "    # Handling Missing values\n",
    "    # replacing with most common value in train set\n",
    "    X.fillna(train_na_cols, inplace=True)\n",
    "    \n",
    "    # OHE \"maincateg\" & \"platform\"\n",
    "    dummy_features = ['maincateg', 'platform']\n",
    "    X = pd.get_dummies(X, columns=dummy_features)\n",
    "    \n",
    "    return X"
   ]
  },
  {
   "cell_type": "code",
   "execution_count": 11,
   "id": "1ca99d4d",
   "metadata": {},
   "outputs": [
    {
     "data": {
      "text/plain": [
       "{'Rating': 4.012873490146217}"
      ]
     },
     "execution_count": 11,
     "metadata": {},
     "output_type": "execute_result"
    }
   ],
   "source": [
    "test_na_cols = {'Rating': X_train_orig.Rating.mean()}\n",
    "test_na_cols"
   ]
  },
  {
   "cell_type": "code",
   "execution_count": 12,
   "id": "93135139",
   "metadata": {},
   "outputs": [],
   "source": [
    "# for encoding 'test set'\n",
    "def encode_test_cols(X):\n",
    "    # Filling maincateg using title\n",
    "    fill_maincateg(X)\n",
    "    \n",
    "    # Drop \"title\" & \"id\" & 'norating1'\n",
    "    cols_to_drop = ['id', 'title', 'star_5f', 'star_4f', 'star_3f', 'star_2f', 'star_1f']\n",
    "    X.drop(cols_to_drop, axis=1, inplace=True)\n",
    "    \n",
    "    # Handling Missing values\n",
    "    # replacing with most common value in train set\n",
    "    X.fillna(test_na_cols, inplace=True)\n",
    "    \n",
    "    # OHE \"maincateg\" & \"platform\"\n",
    "    dummy_features = ['maincateg', 'platform']\n",
    "    X = pd.get_dummies(X, columns=dummy_features)\n",
    "    \n",
    "    return X"
   ]
  },
  {
   "cell_type": "code",
   "execution_count": 13,
   "id": "ceb5d192",
   "metadata": {},
   "outputs": [
    {
     "name": "stdout",
     "output_type": "stream",
     "text": [
      "Done\n",
      "(15730, 9)\n"
     ]
    },
    {
     "data": {
      "text/html": [
       "<div>\n",
       "<style scoped>\n",
       "    .dataframe tbody tr th:only-of-type {\n",
       "        vertical-align: middle;\n",
       "    }\n",
       "\n",
       "    .dataframe tbody tr th {\n",
       "        vertical-align: top;\n",
       "    }\n",
       "\n",
       "    .dataframe thead th {\n",
       "        text-align: right;\n",
       "    }\n",
       "</style>\n",
       "<table border=\"1\" class=\"dataframe\">\n",
       "  <thead>\n",
       "    <tr style=\"text-align: right;\">\n",
       "      <th></th>\n",
       "      <th>Rating</th>\n",
       "      <th>actprice1</th>\n",
       "      <th>norating1</th>\n",
       "      <th>noreviews1</th>\n",
       "      <th>fulfilled1</th>\n",
       "      <th>maincateg_Men</th>\n",
       "      <th>maincateg_Women</th>\n",
       "      <th>platform_Amazon</th>\n",
       "      <th>platform_Flipkart</th>\n",
       "    </tr>\n",
       "  </thead>\n",
       "  <tbody>\n",
       "    <tr>\n",
       "      <th>0</th>\n",
       "      <td>3.9</td>\n",
       "      <td>999</td>\n",
       "      <td>38.0</td>\n",
       "      <td>7.0</td>\n",
       "      <td>0</td>\n",
       "      <td>False</td>\n",
       "      <td>True</td>\n",
       "      <td>False</td>\n",
       "      <td>True</td>\n",
       "    </tr>\n",
       "    <tr>\n",
       "      <th>1</th>\n",
       "      <td>3.8</td>\n",
       "      <td>1999</td>\n",
       "      <td>531.0</td>\n",
       "      <td>69.0</td>\n",
       "      <td>1</td>\n",
       "      <td>True</td>\n",
       "      <td>False</td>\n",
       "      <td>False</td>\n",
       "      <td>True</td>\n",
       "    </tr>\n",
       "    <tr>\n",
       "      <th>2</th>\n",
       "      <td>4.4</td>\n",
       "      <td>4999</td>\n",
       "      <td>17.0</td>\n",
       "      <td>4.0</td>\n",
       "      <td>1</td>\n",
       "      <td>False</td>\n",
       "      <td>True</td>\n",
       "      <td>False</td>\n",
       "      <td>True</td>\n",
       "    </tr>\n",
       "    <tr>\n",
       "      <th>3</th>\n",
       "      <td>4.2</td>\n",
       "      <td>724</td>\n",
       "      <td>46413.0</td>\n",
       "      <td>6229.0</td>\n",
       "      <td>1</td>\n",
       "      <td>True</td>\n",
       "      <td>False</td>\n",
       "      <td>False</td>\n",
       "      <td>True</td>\n",
       "    </tr>\n",
       "    <tr>\n",
       "      <th>4</th>\n",
       "      <td>3.9</td>\n",
       "      <td>2299</td>\n",
       "      <td>77.0</td>\n",
       "      <td>3.0</td>\n",
       "      <td>1</td>\n",
       "      <td>True</td>\n",
       "      <td>False</td>\n",
       "      <td>False</td>\n",
       "      <td>True</td>\n",
       "    </tr>\n",
       "  </tbody>\n",
       "</table>\n",
       "</div>"
      ],
      "text/plain": [
       "   Rating  actprice1  norating1  noreviews1  fulfilled1  maincateg_Men  \\\n",
       "0     3.9        999       38.0         7.0           0          False   \n",
       "1     3.8       1999      531.0        69.0           1           True   \n",
       "2     4.4       4999       17.0         4.0           1          False   \n",
       "3     4.2        724    46413.0      6229.0           1           True   \n",
       "4     3.9       2299       77.0         3.0           1           True   \n",
       "\n",
       "   maincateg_Women  platform_Amazon  platform_Flipkart  \n",
       "0             True            False               True  \n",
       "1            False            False               True  \n",
       "2             True            False               True  \n",
       "3            False            False               True  \n",
       "4            False            False               True  "
      ]
     },
     "execution_count": 13,
     "metadata": {},
     "output_type": "execute_result"
    }
   ],
   "source": [
    "X_train_orig = encode_train_cols(X_train_orig)\n",
    "print(X_train_orig.shape)\n",
    "X_train_orig.head()"
   ]
  },
  {
   "cell_type": "markdown",
   "id": "b2bf36fb",
   "metadata": {},
   "source": [
    "### Training Model - RF"
   ]
  },
  {
   "cell_type": "code",
   "execution_count": 14,
   "id": "cfe85629",
   "metadata": {},
   "outputs": [],
   "source": [
    "from sklearn.model_selection import train_test_split\n",
    "from sklearn.ensemble import RandomForestClassifier\n",
    "from sklearn.ensemble import RandomForestRegressor   # shit"
   ]
  },
  {
   "cell_type": "code",
   "execution_count": 15,
   "id": "4a06f830",
   "metadata": {},
   "outputs": [
    {
     "data": {
      "text/plain": [
       "(13370, 9)"
      ]
     },
     "execution_count": 15,
     "metadata": {},
     "output_type": "execute_result"
    }
   ],
   "source": [
    "X_train, X_valid, y_train_both, y_valid_both = train_test_split(X_train_orig, y_train_orig, test_size=0.15, random_state=0)\n",
    "X_train.shape"
   ]
  },
  {
   "cell_type": "code",
   "execution_count": 17,
   "id": "fd11ef70",
   "metadata": {},
   "outputs": [
    {
     "data": {
      "text/html": [
       "<div>\n",
       "<style scoped>\n",
       "    .dataframe tbody tr th:only-of-type {\n",
       "        vertical-align: middle;\n",
       "    }\n",
       "\n",
       "    .dataframe tbody tr th {\n",
       "        vertical-align: top;\n",
       "    }\n",
       "\n",
       "    .dataframe thead th {\n",
       "        text-align: right;\n",
       "    }\n",
       "</style>\n",
       "<table border=\"1\" class=\"dataframe\">\n",
       "  <thead>\n",
       "    <tr style=\"text-align: right;\">\n",
       "      <th></th>\n",
       "      <th>Rating</th>\n",
       "      <th>actprice1</th>\n",
       "      <th>norating1</th>\n",
       "      <th>noreviews1</th>\n",
       "      <th>fulfilled1</th>\n",
       "      <th>maincateg_Men</th>\n",
       "      <th>maincateg_Women</th>\n",
       "      <th>platform_Amazon</th>\n",
       "      <th>platform_Flipkart</th>\n",
       "    </tr>\n",
       "  </thead>\n",
       "  <tbody>\n",
       "    <tr>\n",
       "      <th>13681</th>\n",
       "      <td>4.2</td>\n",
       "      <td>3499</td>\n",
       "      <td>3057.660776</td>\n",
       "      <td>423.976307</td>\n",
       "      <td>1</td>\n",
       "      <td>True</td>\n",
       "      <td>False</td>\n",
       "      <td>False</td>\n",
       "      <td>True</td>\n",
       "    </tr>\n",
       "    <tr>\n",
       "      <th>11135</th>\n",
       "      <td>3.8</td>\n",
       "      <td>998</td>\n",
       "      <td>2419.000000</td>\n",
       "      <td>313.000000</td>\n",
       "      <td>1</td>\n",
       "      <td>True</td>\n",
       "      <td>False</td>\n",
       "      <td>False</td>\n",
       "      <td>True</td>\n",
       "    </tr>\n",
       "    <tr>\n",
       "      <th>2206</th>\n",
       "      <td>4.2</td>\n",
       "      <td>1474</td>\n",
       "      <td>14908.000000</td>\n",
       "      <td>2466.000000</td>\n",
       "      <td>1</td>\n",
       "      <td>False</td>\n",
       "      <td>True</td>\n",
       "      <td>False</td>\n",
       "      <td>True</td>\n",
       "    </tr>\n",
       "    <tr>\n",
       "      <th>4446</th>\n",
       "      <td>3.7</td>\n",
       "      <td>1400</td>\n",
       "      <td>108.000000</td>\n",
       "      <td>21.000000</td>\n",
       "      <td>1</td>\n",
       "      <td>False</td>\n",
       "      <td>True</td>\n",
       "      <td>False</td>\n",
       "      <td>True</td>\n",
       "    </tr>\n",
       "    <tr>\n",
       "      <th>14137</th>\n",
       "      <td>4.0</td>\n",
       "      <td>2999</td>\n",
       "      <td>10.000000</td>\n",
       "      <td>2.000000</td>\n",
       "      <td>0</td>\n",
       "      <td>False</td>\n",
       "      <td>True</td>\n",
       "      <td>False</td>\n",
       "      <td>True</td>\n",
       "    </tr>\n",
       "  </tbody>\n",
       "</table>\n",
       "</div>"
      ],
      "text/plain": [
       "       Rating  actprice1     norating1   noreviews1  fulfilled1  \\\n",
       "13681     4.2       3499   3057.660776   423.976307           1   \n",
       "11135     3.8        998   2419.000000   313.000000           1   \n",
       "2206      4.2       1474  14908.000000  2466.000000           1   \n",
       "4446      3.7       1400    108.000000    21.000000           1   \n",
       "14137     4.0       2999     10.000000     2.000000           0   \n",
       "\n",
       "       maincateg_Men  maincateg_Women  platform_Amazon  platform_Flipkart  \n",
       "13681           True            False            False               True  \n",
       "11135           True            False            False               True  \n",
       "2206           False             True            False               True  \n",
       "4446           False             True            False               True  \n",
       "14137          False             True            False               True  "
      ]
     },
     "execution_count": 17,
     "metadata": {},
     "output_type": "execute_result"
    }
   ],
   "source": [
    "X_train.head()"
   ]
  },
  {
   "cell_type": "code",
   "execution_count": null,
   "id": "c6eaf063",
   "metadata": {},
   "outputs": [],
   "source": [
    "# # y_train\n",
    "# y_train_offer = y_train['Offer %']\n",
    "# y_train_price = y_train['price1']\n",
    "# y_train_offer.head()\n",
    "# y_train_price.shape"
   ]
  },
  {
   "cell_type": "code",
   "execution_count": 18,
   "id": "3d5dab16",
   "metadata": {},
   "outputs": [],
   "source": [
    "y_train = y_train_both['price1']\n",
    "y_valid = y_valid_both['price1']"
   ]
  },
  {
   "cell_type": "code",
   "execution_count": 19,
   "id": "0db5eed9",
   "metadata": {},
   "outputs": [
    {
     "data": {
      "text/plain": [
       "RandomForestRegressor(n_estimators=20)"
      ]
     },
     "execution_count": 19,
     "metadata": {},
     "output_type": "execute_result"
    }
   ],
   "source": [
    "rf = RandomForestRegressor(n_estimators=20)\n",
    "rf.fit(X_train, y_train)"
   ]
  },
  {
   "cell_type": "code",
   "execution_count": 20,
   "id": "64ba4be8",
   "metadata": {},
   "outputs": [
    {
     "name": "stdout",
     "output_type": "stream",
     "text": [
      "0.9818623156142355\n"
     ]
    },
    {
     "data": {
      "text/plain": [
       "0.9070186174860693"
      ]
     },
     "execution_count": 20,
     "metadata": {},
     "output_type": "execute_result"
    }
   ],
   "source": [
    "print(rf.score(X_train, y_train))\n",
    "rf.score(X_valid, y_valid)\n",
    "\n",
    "# very less on valid - overfit?"
   ]
  },
  {
   "cell_type": "code",
   "execution_count": null,
   "id": "a85eb55a",
   "metadata": {},
   "outputs": [],
   "source": [
    "# from sklearn.metrics import accuracy_score\n",
    "# pred_val = rf.predict(X_valid)\n",
    "# print(accuracy_score(y_valid, pred_val))"
   ]
  },
  {
   "cell_type": "code",
   "execution_count": 21,
   "id": "2861fed6",
   "metadata": {
    "scrolled": true
   },
   "outputs": [
    {
     "name": "stdout",
     "output_type": "stream",
     "text": [
      "Train:  87.74420445382452\n",
      "Val:  194.26846167677164\n"
     ]
    }
   ],
   "source": [
    "from sklearn.metrics import mean_squared_error\n",
    "\n",
    "pred_train = rf.predict(X_train)\n",
    "print(\"Train: \", np.sqrt(mean_squared_error(y_train, pred_train)))\n",
    "\n",
    "pred_val = rf.predict(X_valid)\n",
    "print(\"Val: \", np.sqrt(mean_squared_error(y_valid, pred_val)))"
   ]
  },
  {
   "cell_type": "markdown",
   "id": "e931ab3f",
   "metadata": {},
   "source": [
    "#### Generate submission file for rf\n"
   ]
  },
  {
   "cell_type": "code",
   "execution_count": 22,
   "id": "18931bc1",
   "metadata": {
    "scrolled": true
   },
   "outputs": [
    {
     "name": "stdout",
     "output_type": "stream",
     "text": [
      "0     2242\n",
      "1    20532\n",
      "2    10648\n",
      "Name: id, dtype: int64\n"
     ]
    }
   ],
   "source": [
    "X_test = pd.read_csv('Data/test.csv')\n",
    "test_id = X_test['id']\n",
    "print(test_id[:3])"
   ]
  },
  {
   "cell_type": "code",
   "execution_count": 23,
   "id": "5f827a5b",
   "metadata": {
    "scrolled": false
   },
   "outputs": [
    {
     "name": "stdout",
     "output_type": "stream",
     "text": [
      "Done\n"
     ]
    },
    {
     "data": {
      "text/html": [
       "<div>\n",
       "<style scoped>\n",
       "    .dataframe tbody tr th:only-of-type {\n",
       "        vertical-align: middle;\n",
       "    }\n",
       "\n",
       "    .dataframe tbody tr th {\n",
       "        vertical-align: top;\n",
       "    }\n",
       "\n",
       "    .dataframe thead th {\n",
       "        text-align: right;\n",
       "    }\n",
       "</style>\n",
       "<table border=\"1\" class=\"dataframe\">\n",
       "  <thead>\n",
       "    <tr style=\"text-align: right;\">\n",
       "      <th></th>\n",
       "      <th>Rating</th>\n",
       "      <th>actprice1</th>\n",
       "      <th>norating1</th>\n",
       "      <th>noreviews1</th>\n",
       "      <th>fulfilled1</th>\n",
       "      <th>maincateg_Men</th>\n",
       "      <th>maincateg_Women</th>\n",
       "      <th>platform_Amazon</th>\n",
       "      <th>platform_Flipkart</th>\n",
       "    </tr>\n",
       "  </thead>\n",
       "  <tbody>\n",
       "    <tr>\n",
       "      <th>0</th>\n",
       "      <td>3.8</td>\n",
       "      <td>999</td>\n",
       "      <td>27928</td>\n",
       "      <td>3543</td>\n",
       "      <td>1</td>\n",
       "      <td>True</td>\n",
       "      <td>False</td>\n",
       "      <td>False</td>\n",
       "      <td>True</td>\n",
       "    </tr>\n",
       "    <tr>\n",
       "      <th>1</th>\n",
       "      <td>3.9</td>\n",
       "      <td>499</td>\n",
       "      <td>3015</td>\n",
       "      <td>404</td>\n",
       "      <td>1</td>\n",
       "      <td>False</td>\n",
       "      <td>True</td>\n",
       "      <td>False</td>\n",
       "      <td>True</td>\n",
       "    </tr>\n",
       "    <tr>\n",
       "      <th>2</th>\n",
       "      <td>3.9</td>\n",
       "      <td>999</td>\n",
       "      <td>449</td>\n",
       "      <td>52</td>\n",
       "      <td>1</td>\n",
       "      <td>False</td>\n",
       "      <td>True</td>\n",
       "      <td>False</td>\n",
       "      <td>True</td>\n",
       "    </tr>\n",
       "    <tr>\n",
       "      <th>3</th>\n",
       "      <td>3.9</td>\n",
       "      <td>2999</td>\n",
       "      <td>290</td>\n",
       "      <td>40</td>\n",
       "      <td>1</td>\n",
       "      <td>True</td>\n",
       "      <td>False</td>\n",
       "      <td>False</td>\n",
       "      <td>True</td>\n",
       "    </tr>\n",
       "    <tr>\n",
       "      <th>4</th>\n",
       "      <td>3.9</td>\n",
       "      <td>999</td>\n",
       "      <td>2423</td>\n",
       "      <td>326</td>\n",
       "      <td>0</td>\n",
       "      <td>True</td>\n",
       "      <td>False</td>\n",
       "      <td>False</td>\n",
       "      <td>True</td>\n",
       "    </tr>\n",
       "  </tbody>\n",
       "</table>\n",
       "</div>"
      ],
      "text/plain": [
       "   Rating  actprice1  norating1  noreviews1  fulfilled1  maincateg_Men  \\\n",
       "0     3.8        999      27928        3543           1           True   \n",
       "1     3.9        499       3015         404           1          False   \n",
       "2     3.9        999        449          52           1          False   \n",
       "3     3.9       2999        290          40           1           True   \n",
       "4     3.9        999       2423         326           0           True   \n",
       "\n",
       "   maincateg_Women  platform_Amazon  platform_Flipkart  \n",
       "0            False            False               True  \n",
       "1             True            False               True  \n",
       "2             True            False               True  \n",
       "3            False            False               True  \n",
       "4            False            False               True  "
      ]
     },
     "execution_count": 23,
     "metadata": {},
     "output_type": "execute_result"
    }
   ],
   "source": [
    "X_test = encode_test_cols(X_test)\n",
    "X_test.head()"
   ]
  },
  {
   "cell_type": "code",
   "execution_count": 24,
   "id": "6df6331b",
   "metadata": {},
   "outputs": [
    {
     "data": {
      "text/plain": [
       "array([426.36727273, 294.60277778, 458.18333333, 895.4       ,\n",
       "       400.4       ])"
      ]
     },
     "execution_count": 24,
     "metadata": {},
     "output_type": "execute_result"
    }
   ],
   "source": [
    "pred_test = rf.predict(X_test)\n",
    "pred_test[:5]"
   ]
  },
  {
   "cell_type": "code",
   "execution_count": 25,
   "id": "d8345bd8",
   "metadata": {
    "scrolled": true
   },
   "outputs": [
    {
     "data": {
      "text/html": [
       "<div>\n",
       "<style scoped>\n",
       "    .dataframe tbody tr th:only-of-type {\n",
       "        vertical-align: middle;\n",
       "    }\n",
       "\n",
       "    .dataframe tbody tr th {\n",
       "        vertical-align: top;\n",
       "    }\n",
       "\n",
       "    .dataframe thead th {\n",
       "        text-align: right;\n",
       "    }\n",
       "</style>\n",
       "<table border=\"1\" class=\"dataframe\">\n",
       "  <thead>\n",
       "    <tr style=\"text-align: right;\">\n",
       "      <th></th>\n",
       "      <th>id</th>\n",
       "      <th>price1</th>\n",
       "    </tr>\n",
       "  </thead>\n",
       "  <tbody>\n",
       "    <tr>\n",
       "      <th>0</th>\n",
       "      <td>2242</td>\n",
       "      <td>426.367273</td>\n",
       "    </tr>\n",
       "    <tr>\n",
       "      <th>1</th>\n",
       "      <td>20532</td>\n",
       "      <td>294.602778</td>\n",
       "    </tr>\n",
       "    <tr>\n",
       "      <th>2</th>\n",
       "      <td>10648</td>\n",
       "      <td>458.183333</td>\n",
       "    </tr>\n",
       "    <tr>\n",
       "      <th>3</th>\n",
       "      <td>20677</td>\n",
       "      <td>895.400000</td>\n",
       "    </tr>\n",
       "    <tr>\n",
       "      <th>4</th>\n",
       "      <td>12593</td>\n",
       "      <td>400.400000</td>\n",
       "    </tr>\n",
       "  </tbody>\n",
       "</table>\n",
       "</div>"
      ],
      "text/plain": [
       "      id      price1\n",
       "0   2242  426.367273\n",
       "1  20532  294.602778\n",
       "2  10648  458.183333\n",
       "3  20677  895.400000\n",
       "4  12593  400.400000"
      ]
     },
     "execution_count": 25,
     "metadata": {},
     "output_type": "execute_result"
    }
   ],
   "source": [
    "subm_file = pd.DataFrame(test_id)\n",
    "subm_file['price1'] = pred_test\n",
    "subm_file.head()"
   ]
  },
  {
   "cell_type": "code",
   "execution_count": 26,
   "id": "b5f9ac8b",
   "metadata": {},
   "outputs": [],
   "source": [
    "import os\n",
    "if not os.path.exists(\"subm\"):\n",
    "    print(\"Created subm dir\")\n",
    "    os.makedirs(\"subm\")\n",
    "    \n",
    "subm_file.to_csv('subm/5_rf.csv', index=False)"
   ]
  },
  {
   "cell_type": "markdown",
   "id": "bc3575b6",
   "metadata": {},
   "source": [
    "**Score: 199** Damn??"
   ]
  },
  {
   "cell_type": "markdown",
   "id": "58f9104a",
   "metadata": {},
   "source": [
    "## Hyperparameter-tuning"
   ]
  },
  {
   "cell_type": "code",
   "execution_count": 27,
   "id": "8a934c69",
   "metadata": {},
   "outputs": [],
   "source": [
    "def score(model, title):\n",
    "    model.fit(X_train, y_train)\n",
    "    \n",
    "    print(\"RMSE for\", title, \": \")\n",
    "    \n",
    "    pred_train = model.predict(X_train)\n",
    "    print(\"Train: \", np.sqrt(mean_squared_error(y_train, pred_train)))\n",
    "\n",
    "    pred_val = model.predict(X_valid)\n",
    "    print(\"Val: \", np.sqrt(mean_squared_error(y_valid, pred_val)))\n",
    "    \n",
    "    # print(\"Accurancy for \", title)\n",
    "    # print(\"\\tTrain: \", model.score(X_train, y_train))\n",
    "    # print(\"\\tTest: \", model.score(X_valid, y_valid))"
   ]
  },
  {
   "cell_type": "code",
   "execution_count": 28,
   "id": "a6b060fc",
   "metadata": {
    "scrolled": false
   },
   "outputs": [
    {
     "name": "stdout",
     "output_type": "stream",
     "text": [
      "RMSE for RandomForest : \n",
      "Train:  173.29092056470597\n",
      "Val:  220.28506755619608\n"
     ]
    }
   ],
   "source": [
    "RF = RandomForestRegressor(n_estimators=1000, max_depth=10, random_state=0)\n",
    "score(RF, \"RandomForest\")"
   ]
  },
  {
   "cell_type": "markdown",
   "id": "b9740de1",
   "metadata": {},
   "source": [
    "#### Generate submission file for RF "
   ]
  },
  {
   "cell_type": "code",
   "execution_count": 29,
   "id": "9ceba107",
   "metadata": {},
   "outputs": [],
   "source": [
    "# pred_val = RF.predict(X_valid)\n",
    "# print(\"Val: \", np.sqrt(mean_squared_error(y_valid, pred_val)))\n",
    "\n",
    "# means RF is fitted globally _/"
   ]
  },
  {
   "cell_type": "code",
   "execution_count": 30,
   "id": "f8520628",
   "metadata": {},
   "outputs": [],
   "source": [
    "pred_test2 = RF.predict(X_test)"
   ]
  },
  {
   "cell_type": "code",
   "execution_count": 31,
   "id": "3d350540",
   "metadata": {},
   "outputs": [
    {
     "data": {
      "text/html": [
       "<div>\n",
       "<style scoped>\n",
       "    .dataframe tbody tr th:only-of-type {\n",
       "        vertical-align: middle;\n",
       "    }\n",
       "\n",
       "    .dataframe tbody tr th {\n",
       "        vertical-align: top;\n",
       "    }\n",
       "\n",
       "    .dataframe thead th {\n",
       "        text-align: right;\n",
       "    }\n",
       "</style>\n",
       "<table border=\"1\" class=\"dataframe\">\n",
       "  <thead>\n",
       "    <tr style=\"text-align: right;\">\n",
       "      <th></th>\n",
       "      <th>id</th>\n",
       "      <th>price1</th>\n",
       "    </tr>\n",
       "  </thead>\n",
       "  <tbody>\n",
       "    <tr>\n",
       "      <th>0</th>\n",
       "      <td>2242</td>\n",
       "      <td>436.641355</td>\n",
       "    </tr>\n",
       "    <tr>\n",
       "      <th>1</th>\n",
       "      <td>20532</td>\n",
       "      <td>293.234288</td>\n",
       "    </tr>\n",
       "    <tr>\n",
       "      <th>2</th>\n",
       "      <td>10648</td>\n",
       "      <td>443.537603</td>\n",
       "    </tr>\n",
       "    <tr>\n",
       "      <th>3</th>\n",
       "      <td>20677</td>\n",
       "      <td>950.391864</td>\n",
       "    </tr>\n",
       "    <tr>\n",
       "      <th>4</th>\n",
       "      <td>12593</td>\n",
       "      <td>412.550063</td>\n",
       "    </tr>\n",
       "  </tbody>\n",
       "</table>\n",
       "</div>"
      ],
      "text/plain": [
       "      id      price1\n",
       "0   2242  436.641355\n",
       "1  20532  293.234288\n",
       "2  10648  443.537603\n",
       "3  20677  950.391864\n",
       "4  12593  412.550063"
      ]
     },
     "execution_count": 31,
     "metadata": {},
     "output_type": "execute_result"
    }
   ],
   "source": [
    "subm_file = pd.DataFrame(test_id)\n",
    "subm_file['price1'] = pred_test2\n",
    "subm_file.head()"
   ]
  },
  {
   "cell_type": "code",
   "execution_count": 32,
   "id": "106b57ed",
   "metadata": {},
   "outputs": [],
   "source": [
    "subm_file.to_csv('subm/5_rf_2.csv', index=False)"
   ]
  },
  {
   "cell_type": "markdown",
   "id": "50187b61",
   "metadata": {},
   "source": [
    "**Score: 225** hmm, expected."
   ]
  },
  {
   "cell_type": "markdown",
   "id": "9e01f683",
   "metadata": {},
   "source": [
    "### RF with more params"
   ]
  },
  {
   "cell_type": "code",
   "execution_count": 33,
   "id": "70be8c29",
   "metadata": {},
   "outputs": [
    {
     "name": "stdout",
     "output_type": "stream",
     "text": [
      "RMSE for SRF : \n",
      "Train:  80.84492525665672\n",
      "Val:  183.66551430813826\n"
     ]
    }
   ],
   "source": [
    "SRF = RandomForestRegressor(max_depth=30,max_features=5,min_samples_leaf=1,min_samples_split=2,n_estimators=580,bootstrap=True)\n",
    "score(SRF, \"SRF\")"
   ]
  },
  {
   "cell_type": "code",
   "execution_count": 36,
   "id": "5179920c",
   "metadata": {},
   "outputs": [],
   "source": [
    "def gen_subm_file(model):\n",
    "    X_test = pd.read_csv('Data/test.csv')\n",
    "    test_id = X_test['id']\n",
    "    \n",
    "    X_test = encode_test_cols(X_test)\n",
    "    \n",
    "    pred_test = model.predict(X_test)\n",
    "    \n",
    "    subm_file = pd.DataFrame(test_id)\n",
    "    subm_file['price1'] = pred_test\n",
    "    \n",
    "    return subm_file"
   ]
  },
  {
   "cell_type": "code",
   "execution_count": 37,
   "id": "dd950ebd",
   "metadata": {},
   "outputs": [
    {
     "name": "stdout",
     "output_type": "stream",
     "text": [
      "Done\n"
     ]
    }
   ],
   "source": [
    "subm_file = gen_subm_file(SRF)\n",
    "subm_file.to_csv(\"subm/5_rf_3.csv\", index=False)"
   ]
  },
  {
   "cell_type": "code",
   "execution_count": 38,
   "id": "dfbb93ec",
   "metadata": {
    "scrolled": true
   },
   "outputs": [],
   "source": [
    "# subm_file = pd.read_csv('5_rf_3.csv')\n",
    "# print(subm_file.isna().sum())\n",
    "# subm_file.head()"
   ]
  },
  {
   "cell_type": "markdown",
   "id": "28f1c26d",
   "metadata": {},
   "source": [
    "**Score: 191** best"
   ]
  },
  {
   "cell_type": "markdown",
   "id": "22437876",
   "metadata": {},
   "source": [
    "# Feature Scaling"
   ]
  },
  {
   "cell_type": "code",
   "execution_count": 39,
   "id": "23ac8dc7",
   "metadata": {},
   "outputs": [],
   "source": [
    "def normalize(X):\n",
    "    features = X.columns\n",
    "    X[features] /= X_train[features].max()\n",
    "    return X"
   ]
  },
  {
   "cell_type": "code",
   "execution_count": 40,
   "id": "15f4da1a",
   "metadata": {
    "scrolled": true
   },
   "outputs": [
    {
     "data": {
      "text/html": [
       "<div>\n",
       "<style scoped>\n",
       "    .dataframe tbody tr th:only-of-type {\n",
       "        vertical-align: middle;\n",
       "    }\n",
       "\n",
       "    .dataframe tbody tr th {\n",
       "        vertical-align: top;\n",
       "    }\n",
       "\n",
       "    .dataframe thead th {\n",
       "        text-align: right;\n",
       "    }\n",
       "</style>\n",
       "<table border=\"1\" class=\"dataframe\">\n",
       "  <thead>\n",
       "    <tr style=\"text-align: right;\">\n",
       "      <th></th>\n",
       "      <th>Rating</th>\n",
       "      <th>actprice1</th>\n",
       "      <th>norating1</th>\n",
       "      <th>noreviews1</th>\n",
       "      <th>fulfilled1</th>\n",
       "      <th>maincateg_Men</th>\n",
       "      <th>maincateg_Women</th>\n",
       "      <th>platform_Amazon</th>\n",
       "      <th>platform_Flipkart</th>\n",
       "    </tr>\n",
       "  </thead>\n",
       "  <tbody>\n",
       "    <tr>\n",
       "      <th>0</th>\n",
       "      <td>0.78</td>\n",
       "      <td>0.074005</td>\n",
       "      <td>0.000131</td>\n",
       "      <td>0.000154</td>\n",
       "      <td>0.0</td>\n",
       "      <td>0.0</td>\n",
       "      <td>1.0</td>\n",
       "      <td>0.0</td>\n",
       "      <td>1.0</td>\n",
       "    </tr>\n",
       "    <tr>\n",
       "      <th>1</th>\n",
       "      <td>0.76</td>\n",
       "      <td>0.148085</td>\n",
       "      <td>0.001831</td>\n",
       "      <td>0.001518</td>\n",
       "      <td>1.0</td>\n",
       "      <td>1.0</td>\n",
       "      <td>0.0</td>\n",
       "      <td>0.0</td>\n",
       "      <td>1.0</td>\n",
       "    </tr>\n",
       "    <tr>\n",
       "      <th>2</th>\n",
       "      <td>0.88</td>\n",
       "      <td>0.370324</td>\n",
       "      <td>0.000059</td>\n",
       "      <td>0.000088</td>\n",
       "      <td>1.0</td>\n",
       "      <td>0.0</td>\n",
       "      <td>1.0</td>\n",
       "      <td>0.0</td>\n",
       "      <td>1.0</td>\n",
       "    </tr>\n",
       "    <tr>\n",
       "      <th>3</th>\n",
       "      <td>0.84</td>\n",
       "      <td>0.053634</td>\n",
       "      <td>0.16006</td>\n",
       "      <td>0.137058</td>\n",
       "      <td>1.0</td>\n",
       "      <td>1.0</td>\n",
       "      <td>0.0</td>\n",
       "      <td>0.0</td>\n",
       "      <td>1.0</td>\n",
       "    </tr>\n",
       "    <tr>\n",
       "      <th>4</th>\n",
       "      <td>0.78</td>\n",
       "      <td>0.170309</td>\n",
       "      <td>0.000266</td>\n",
       "      <td>0.000066</td>\n",
       "      <td>1.0</td>\n",
       "      <td>1.0</td>\n",
       "      <td>0.0</td>\n",
       "      <td>0.0</td>\n",
       "      <td>1.0</td>\n",
       "    </tr>\n",
       "  </tbody>\n",
       "</table>\n",
       "</div>"
      ],
      "text/plain": [
       "  Rating actprice1 norating1 noreviews1 fulfilled1 maincateg_Men  \\\n",
       "0   0.78  0.074005  0.000131   0.000154        0.0           0.0   \n",
       "1   0.76  0.148085  0.001831   0.001518        1.0           1.0   \n",
       "2   0.88  0.370324  0.000059   0.000088        1.0           0.0   \n",
       "3   0.84  0.053634   0.16006   0.137058        1.0           1.0   \n",
       "4   0.78  0.170309  0.000266   0.000066        1.0           1.0   \n",
       "\n",
       "  maincateg_Women platform_Amazon platform_Flipkart  \n",
       "0             1.0             0.0               1.0  \n",
       "1             0.0             0.0               1.0  \n",
       "2             1.0             0.0               1.0  \n",
       "3             0.0             0.0               1.0  \n",
       "4             0.0             0.0               1.0  "
      ]
     },
     "execution_count": 40,
     "metadata": {},
     "output_type": "execute_result"
    }
   ],
   "source": [
    "X_train_norm = normalize(X_train_orig.copy())\n",
    "X_train_norm.head()"
   ]
  },
  {
   "cell_type": "code",
   "execution_count": 41,
   "id": "4d38ff9d",
   "metadata": {},
   "outputs": [
    {
     "data": {
      "text/html": [
       "<div>\n",
       "<style scoped>\n",
       "    .dataframe tbody tr th:only-of-type {\n",
       "        vertical-align: middle;\n",
       "    }\n",
       "\n",
       "    .dataframe tbody tr th {\n",
       "        vertical-align: top;\n",
       "    }\n",
       "\n",
       "    .dataframe thead th {\n",
       "        text-align: right;\n",
       "    }\n",
       "</style>\n",
       "<table border=\"1\" class=\"dataframe\">\n",
       "  <thead>\n",
       "    <tr style=\"text-align: right;\">\n",
       "      <th></th>\n",
       "      <th>Rating</th>\n",
       "      <th>actprice1</th>\n",
       "      <th>norating1</th>\n",
       "      <th>noreviews1</th>\n",
       "      <th>fulfilled1</th>\n",
       "      <th>maincateg_Men</th>\n",
       "      <th>maincateg_Women</th>\n",
       "      <th>platform_Amazon</th>\n",
       "      <th>platform_Flipkart</th>\n",
       "    </tr>\n",
       "  </thead>\n",
       "  <tbody>\n",
       "    <tr>\n",
       "      <th>0</th>\n",
       "      <td>3.9</td>\n",
       "      <td>999</td>\n",
       "      <td>38.0</td>\n",
       "      <td>7.0</td>\n",
       "      <td>0</td>\n",
       "      <td>False</td>\n",
       "      <td>True</td>\n",
       "      <td>False</td>\n",
       "      <td>True</td>\n",
       "    </tr>\n",
       "    <tr>\n",
       "      <th>1</th>\n",
       "      <td>3.8</td>\n",
       "      <td>1999</td>\n",
       "      <td>531.0</td>\n",
       "      <td>69.0</td>\n",
       "      <td>1</td>\n",
       "      <td>True</td>\n",
       "      <td>False</td>\n",
       "      <td>False</td>\n",
       "      <td>True</td>\n",
       "    </tr>\n",
       "    <tr>\n",
       "      <th>2</th>\n",
       "      <td>4.4</td>\n",
       "      <td>4999</td>\n",
       "      <td>17.0</td>\n",
       "      <td>4.0</td>\n",
       "      <td>1</td>\n",
       "      <td>False</td>\n",
       "      <td>True</td>\n",
       "      <td>False</td>\n",
       "      <td>True</td>\n",
       "    </tr>\n",
       "    <tr>\n",
       "      <th>3</th>\n",
       "      <td>4.2</td>\n",
       "      <td>724</td>\n",
       "      <td>46413.0</td>\n",
       "      <td>6229.0</td>\n",
       "      <td>1</td>\n",
       "      <td>True</td>\n",
       "      <td>False</td>\n",
       "      <td>False</td>\n",
       "      <td>True</td>\n",
       "    </tr>\n",
       "    <tr>\n",
       "      <th>4</th>\n",
       "      <td>3.9</td>\n",
       "      <td>2299</td>\n",
       "      <td>77.0</td>\n",
       "      <td>3.0</td>\n",
       "      <td>1</td>\n",
       "      <td>True</td>\n",
       "      <td>False</td>\n",
       "      <td>False</td>\n",
       "      <td>True</td>\n",
       "    </tr>\n",
       "  </tbody>\n",
       "</table>\n",
       "</div>"
      ],
      "text/plain": [
       "   Rating  actprice1  norating1  noreviews1  fulfilled1  maincateg_Men  \\\n",
       "0     3.9        999       38.0         7.0           0          False   \n",
       "1     3.8       1999      531.0        69.0           1           True   \n",
       "2     4.4       4999       17.0         4.0           1          False   \n",
       "3     4.2        724    46413.0      6229.0           1           True   \n",
       "4     3.9       2299       77.0         3.0           1           True   \n",
       "\n",
       "   maincateg_Women  platform_Amazon  platform_Flipkart  \n",
       "0             True            False               True  \n",
       "1            False            False               True  \n",
       "2             True            False               True  \n",
       "3            False            False               True  \n",
       "4            False            False               True  "
      ]
     },
     "execution_count": 41,
     "metadata": {},
     "output_type": "execute_result"
    }
   ],
   "source": [
    "X_train_orig.head()  # should not get normalized"
   ]
  },
  {
   "cell_type": "code",
   "execution_count": 42,
   "id": "5e9386ea",
   "metadata": {},
   "outputs": [
    {
     "data": {
      "text/plain": [
       "(15730, 9)"
      ]
     },
     "execution_count": 42,
     "metadata": {},
     "output_type": "execute_result"
    }
   ],
   "source": [
    "X_train_norm.shape  # should be (15730, 9)"
   ]
  },
  {
   "cell_type": "code",
   "execution_count": 43,
   "id": "284a5390",
   "metadata": {},
   "outputs": [
    {
     "data": {
      "text/plain": [
       "(15730,)"
      ]
     },
     "execution_count": 43,
     "metadata": {},
     "output_type": "execute_result"
    }
   ],
   "source": [
    "y_train_offer = y_train_orig['Offer %']\n",
    "y_train_offer.shape   # should be (15730,)"
   ]
  },
  {
   "cell_type": "code",
   "execution_count": 44,
   "id": "16c9edfe",
   "metadata": {},
   "outputs": [
    {
     "data": {
      "text/plain": [
       "0    30.13%\n",
       "1    50.03%\n",
       "2    45.01%\n",
       "3    15.85%\n",
       "4    40.02%\n",
       "Name: Offer %, dtype: object"
      ]
     },
     "execution_count": 44,
     "metadata": {},
     "output_type": "execute_result"
    }
   ],
   "source": [
    "y_train_offer.head()"
   ]
  },
  {
   "cell_type": "code",
   "execution_count": 45,
   "id": "619881d4",
   "metadata": {},
   "outputs": [
    {
     "data": {
      "text/plain": [
       "0    30.13\n",
       "1    50.03\n",
       "2    45.01\n",
       "3    15.85\n",
       "4    40.02\n",
       "Name: Offer %, dtype: float64"
      ]
     },
     "execution_count": 45,
     "metadata": {},
     "output_type": "execute_result"
    }
   ],
   "source": [
    "y_train_offer = y_train_offer.str.replace(r'%', '')\n",
    "y_train_offer = y_train_offer.astype(float)\n",
    "y_train_offer.head()"
   ]
  },
  {
   "cell_type": "code",
   "execution_count": 46,
   "id": "eaa08885",
   "metadata": {},
   "outputs": [
    {
     "data": {
      "text/plain": [
       "count    15730.000000\n",
       "mean         0.468025\n",
       "std          0.192687\n",
       "min          0.000000\n",
       "25%          0.359400\n",
       "50%          0.500700\n",
       "75%          0.601600\n",
       "max          0.889300\n",
       "Name: Offer %, dtype: float64"
      ]
     },
     "execution_count": 46,
     "metadata": {},
     "output_type": "execute_result"
    }
   ],
   "source": [
    "y_train_offer /= 100\n",
    "y_train_offer.head()\n",
    "y_train_offer.describe()"
   ]
  },
  {
   "cell_type": "code",
   "execution_count": 47,
   "id": "b01d7dbd",
   "metadata": {},
   "outputs": [
    {
     "data": {
      "text/plain": [
       "(15730,)"
      ]
     },
     "execution_count": 47,
     "metadata": {},
     "output_type": "execute_result"
    }
   ],
   "source": [
    "y_train_offer.shape  # should be (15730,)"
   ]
  },
  {
   "cell_type": "markdown",
   "id": "019bc1ea",
   "metadata": {},
   "source": [
    "### Training - after feature scaling"
   ]
  },
  {
   "cell_type": "code",
   "execution_count": 48,
   "id": "ec974848",
   "metadata": {},
   "outputs": [
    {
     "data": {
      "text/plain": [
       "(13370, 9)"
      ]
     },
     "execution_count": 48,
     "metadata": {},
     "output_type": "execute_result"
    }
   ],
   "source": [
    "X_train2, X_valid2, y_train2, y_valid2 = train_test_split(X_train_norm, y_train_offer,test_size=0.15, random_state=0)\n",
    "X_train2.shape"
   ]
  },
  {
   "cell_type": "code",
   "execution_count": 49,
   "id": "231ef3d8",
   "metadata": {},
   "outputs": [],
   "source": [
    "def score2(model, title):\n",
    "    print(\"fitting the model..\")\n",
    "    model.fit(X_train2, y_train2)\n",
    "    \n",
    "    print(\"RMSE for\", title, \": \")\n",
    "    \n",
    "    pred_train = model.predict(X_train2)\n",
    "    print(\"Train: \", np.sqrt(mean_squared_error(y_train2, pred_train)))\n",
    "\n",
    "    pred_val = model.predict(X_valid2)\n",
    "    print(\"Val: \", np.sqrt(mean_squared_error(y_valid2, pred_val)))"
   ]
  },
  {
   "cell_type": "code",
   "execution_count": 50,
   "id": "cd1ad453",
   "metadata": {
    "scrolled": false
   },
   "outputs": [
    {
     "name": "stdout",
     "output_type": "stream",
     "text": [
      "fitting the model..\n",
      "RMSE for RF2 : \n",
      "Train:  0.04810694527140603\n",
      "Val:  0.11005138954937278\n"
     ]
    }
   ],
   "source": [
    "rf2 = RandomForestRegressor(n_estimators=20)\n",
    "score2(rf2, \"RF2\")"
   ]
  },
  {
   "cell_type": "code",
   "execution_count": 51,
   "id": "4698a0bc",
   "metadata": {},
   "outputs": [],
   "source": [
    "# offer is offer%\n",
    "def predict_price(offer, test_actprice):\n",
    "    # offer *= 100\n",
    "    test_actprice -= (test_actprice * offer)\n",
    "    return test_actprice"
   ]
  },
  {
   "cell_type": "code",
   "execution_count": 52,
   "id": "11206b95",
   "metadata": {},
   "outputs": [],
   "source": [
    "def gen_subm_file2(model):\n",
    "    X_test = pd.read_csv('Data/test.csv')\n",
    "    test_id = X_test['id']\n",
    "    test_actprice = X_test['actprice1']\n",
    "    \n",
    "    X_test = encode_test_cols(X_test)\n",
    "    X_test = normalize(X_test)\n",
    "    \n",
    "    pred_test_offer = model.predict(X_test)\n",
    "#     print(\"offer: \", pred_test_offer[:5])\n",
    "    pred_test_price = predict_price(pred_test_offer, test_actprice)\n",
    "#     print(\"price: \", pred_test_price[:5])\n",
    "    \n",
    "    subm_file = pd.DataFrame(test_id)\n",
    "    subm_file['price1'] = pred_test_price\n",
    "    \n",
    "    return subm_file"
   ]
  },
  {
   "cell_type": "code",
   "execution_count": 53,
   "id": "8706fea8",
   "metadata": {},
   "outputs": [
    {
     "name": "stdout",
     "output_type": "stream",
     "text": [
      "Done\n"
     ]
    }
   ],
   "source": [
    "subm_file = gen_subm_file2(rf2)\n",
    "subm_file.to_csv(\"subm/5_rf_norm.csv\", index=False)"
   ]
  },
  {
   "cell_type": "code",
   "execution_count": 55,
   "id": "d3a5836c",
   "metadata": {},
   "outputs": [
    {
     "data": {
      "text/html": [
       "<div>\n",
       "<style scoped>\n",
       "    .dataframe tbody tr th:only-of-type {\n",
       "        vertical-align: middle;\n",
       "    }\n",
       "\n",
       "    .dataframe tbody tr th {\n",
       "        vertical-align: top;\n",
       "    }\n",
       "\n",
       "    .dataframe thead th {\n",
       "        text-align: right;\n",
       "    }\n",
       "</style>\n",
       "<table border=\"1\" class=\"dataframe\">\n",
       "  <thead>\n",
       "    <tr style=\"text-align: right;\">\n",
       "      <th></th>\n",
       "      <th>id</th>\n",
       "      <th>price1</th>\n",
       "    </tr>\n",
       "  </thead>\n",
       "  <tbody>\n",
       "    <tr>\n",
       "      <th>0</th>\n",
       "      <td>2242</td>\n",
       "      <td>424.536705</td>\n",
       "    </tr>\n",
       "    <tr>\n",
       "      <th>1</th>\n",
       "      <td>20532</td>\n",
       "      <td>297.599982</td>\n",
       "    </tr>\n",
       "    <tr>\n",
       "      <th>2</th>\n",
       "      <td>10648</td>\n",
       "      <td>387.247365</td>\n",
       "    </tr>\n",
       "    <tr>\n",
       "      <th>3</th>\n",
       "      <td>20677</td>\n",
       "      <td>867.070880</td>\n",
       "    </tr>\n",
       "    <tr>\n",
       "      <th>4</th>\n",
       "      <td>12593</td>\n",
       "      <td>402.197400</td>\n",
       "    </tr>\n",
       "  </tbody>\n",
       "</table>\n",
       "</div>"
      ],
      "text/plain": [
       "      id      price1\n",
       "0   2242  424.536705\n",
       "1  20532  297.599982\n",
       "2  10648  387.247365\n",
       "3  20677  867.070880\n",
       "4  12593  402.197400"
      ]
     },
     "execution_count": 55,
     "metadata": {},
     "output_type": "execute_result"
    }
   ],
   "source": [
    "subm_file = pd.read_csv('subm/5_rf_norm.csv')\n",
    "subm_file.head()"
   ]
  },
  {
   "cell_type": "markdown",
   "id": "82bcac08",
   "metadata": {},
   "source": [
    "**Score: 197**, was expecting a significant inc than norm ;-;"
   ]
  },
  {
   "cell_type": "markdown",
   "id": "9683303c",
   "metadata": {},
   "source": [
    "### Hyperparameter search using GridSearchCV (for unscaled data)"
   ]
  },
  {
   "cell_type": "code",
   "execution_count": 56,
   "id": "bb2ca6fc",
   "metadata": {},
   "outputs": [],
   "source": [
    "from sklearn.model_selection import GridSearchCV"
   ]
  },
  {
   "cell_type": "code",
   "execution_count": 57,
   "id": "3ebd962b",
   "metadata": {},
   "outputs": [
    {
     "data": {
      "text/plain": [
       "{'n_estimators': [200, 500],\n",
       " 'max_features': ['auto', 'sqrt', 'log2'],\n",
       " 'max_depth': [4, 5, 6, 7, 8, 9, 10],\n",
       " 'criterion': ['squared_error']}"
      ]
     },
     "execution_count": 57,
     "metadata": {},
     "output_type": "execute_result"
    }
   ],
   "source": [
    "rfc=RandomForestRegressor(random_state=0)\n",
    "param_grid = { \n",
    "    'n_estimators': [200, 500],\n",
    "    'max_features': ['auto', 'sqrt', 'log2'],\n",
    "    'max_depth' : [4,5,6,7,8,9,10],\n",
    "    'criterion' :['squared_error']\n",
    "}\n",
    "param_grid"
   ]
  },
  {
   "cell_type": "code",
   "execution_count": 55,
   "id": "b917462f",
   "metadata": {},
   "outputs": [],
   "source": [
    "# param_grid = {  'bootstrap': [True], 'max_depth': [5, 10, None], 'max_features': ['auto', 'log2'], 'n_estimators': [5, 6, 7, 8, 9, 10, 11, 12, 13, 15]}"
   ]
  },
  {
   "cell_type": "code",
   "execution_count": 58,
   "id": "9b673a7f",
   "metadata": {
    "scrolled": false
   },
   "outputs": [
    {
     "name": "stdout",
     "output_type": "stream",
     "text": [
      "fitting the model..\n",
      "RMSE for CV RF : \n",
      "Train:  0.12391851669903312\n",
      "Val:  0.13590428983143404\n",
      "{'criterion': 'squared_error', 'max_depth': 10, 'max_features': 'auto', 'n_estimators': 500}\n"
     ]
    }
   ],
   "source": [
    "# takes time to fit GridSearchCV\n",
    "CV_rfc = GridSearchCV(estimator=rfc, param_grid=param_grid, cv= 5)\n",
    "score2(CV_rfc, \"CV RF\")\n",
    "print(CV_rfc.best_params_)"
   ]
  },
  {
   "cell_type": "code",
   "execution_count": 59,
   "id": "2124370a",
   "metadata": {
    "scrolled": true
   },
   "outputs": [
    {
     "data": {
      "text/plain": [
       "{'criterion': 'squared_error',\n",
       " 'max_depth': 10,\n",
       " 'max_features': 'auto',\n",
       " 'n_estimators': 500}"
      ]
     },
     "execution_count": 59,
     "metadata": {},
     "output_type": "execute_result"
    }
   ],
   "source": [
    "CV_rfc.best_params_"
   ]
  },
  {
   "cell_type": "code",
   "execution_count": 60,
   "id": "26f44d44",
   "metadata": {},
   "outputs": [],
   "source": [
    "# CV_rfc.best_params_ = {'criterion': 'squared_error', 'max_depth': 10, 'max_features': 'auto', 'n_estimators': 500}"
   ]
  },
  {
   "cell_type": "code",
   "execution_count": 61,
   "id": "888ec05f",
   "metadata": {},
   "outputs": [
    {
     "name": "stdout",
     "output_type": "stream",
     "text": [
      "Done\n"
     ]
    }
   ],
   "source": [
    "subm_file = gen_subm_file2(rf2)\n",
    "subm_file.to_csv(\"subm/5_rf_CV.csv\", index=False)"
   ]
  },
  {
   "cell_type": "code",
   "execution_count": 62,
   "id": "0ec4d869",
   "metadata": {
    "scrolled": true
   },
   "outputs": [
    {
     "data": {
      "text/html": [
       "<div>\n",
       "<style scoped>\n",
       "    .dataframe tbody tr th:only-of-type {\n",
       "        vertical-align: middle;\n",
       "    }\n",
       "\n",
       "    .dataframe tbody tr th {\n",
       "        vertical-align: top;\n",
       "    }\n",
       "\n",
       "    .dataframe thead th {\n",
       "        text-align: right;\n",
       "    }\n",
       "</style>\n",
       "<table border=\"1\" class=\"dataframe\">\n",
       "  <thead>\n",
       "    <tr style=\"text-align: right;\">\n",
       "      <th></th>\n",
       "      <th>id</th>\n",
       "      <th>price1</th>\n",
       "    </tr>\n",
       "  </thead>\n",
       "  <tbody>\n",
       "    <tr>\n",
       "      <th>0</th>\n",
       "      <td>2242</td>\n",
       "      <td>424.536705</td>\n",
       "    </tr>\n",
       "    <tr>\n",
       "      <th>1</th>\n",
       "      <td>20532</td>\n",
       "      <td>297.599982</td>\n",
       "    </tr>\n",
       "    <tr>\n",
       "      <th>2</th>\n",
       "      <td>10648</td>\n",
       "      <td>387.247365</td>\n",
       "    </tr>\n",
       "    <tr>\n",
       "      <th>3</th>\n",
       "      <td>20677</td>\n",
       "      <td>867.070880</td>\n",
       "    </tr>\n",
       "    <tr>\n",
       "      <th>4</th>\n",
       "      <td>12593</td>\n",
       "      <td>402.197400</td>\n",
       "    </tr>\n",
       "  </tbody>\n",
       "</table>\n",
       "</div>"
      ],
      "text/plain": [
       "      id      price1\n",
       "0   2242  424.536705\n",
       "1  20532  297.599982\n",
       "2  10648  387.247365\n",
       "3  20677  867.070880\n",
       "4  12593  402.197400"
      ]
     },
     "execution_count": 62,
     "metadata": {},
     "output_type": "execute_result"
    }
   ],
   "source": [
    "subm_file.head()"
   ]
  },
  {
   "cell_type": "markdown",
   "id": "661d5bd6",
   "metadata": {},
   "source": [
    "**Score: 197**"
   ]
  },
  {
   "cell_type": "code",
   "execution_count": null,
   "id": "10ccdb8f",
   "metadata": {},
   "outputs": [],
   "source": []
  }
 ],
 "metadata": {
  "kernelspec": {
   "display_name": "Python 3 (ipykernel)",
   "language": "python",
   "name": "python3"
  },
  "language_info": {
   "codemirror_mode": {
    "name": "ipython",
    "version": 3
   },
   "file_extension": ".py",
   "mimetype": "text/x-python",
   "name": "python",
   "nbconvert_exporter": "python",
   "pygments_lexer": "ipython3",
   "version": "3.9.12"
  },
  "vscode": {
   "interpreter": {
    "hash": "188e874ab23a1740250000d4d7ee0881e6b399a40cc902d15d9133bc25d0a6f3"
   }
  }
 },
 "nbformat": 4,
 "nbformat_minor": 5
}
